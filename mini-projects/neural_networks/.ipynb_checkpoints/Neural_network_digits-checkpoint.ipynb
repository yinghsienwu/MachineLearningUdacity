{
 "cells": [
  {
   "cell_type": "markdown",
   "metadata": {},
   "source": [
    "Neural Network\n",
    "=============\n",
    "Ref: https://rolisz.ro/2013/04/18/neural-networks-in-python/\n",
    "\n",
    "Define activation functions and their derivatives:\n",
    "----------------------------"
   ]
  },
  {
   "cell_type": "code",
   "execution_count": 1,
   "metadata": {
    "collapsed": true
   },
   "outputs": [],
   "source": [
    "import numpy as np\n",
    "def tanh(x):\n",
    "    return np.tanh(x)\n",
    "def tanh_deriv(x):\n",
    "    return 1.0-np.tanh(x)\n",
    "def logistic(x):\n",
    "    return 1/(1+np.exp(-x))\n",
    "def logistic_derivative(x):\n",
    "    return logistic(x)*(1-logistic(x))"
   ]
  },
  {
   "cell_type": "markdown",
   "metadata": {},
   "source": [
    "We need to set the number of neurons in each layer, initialize their weights randomly between -0.25 and 0.25 and set the activation function to be used. Each layer, except the last one, will also have a bias unit which cor­re­sponds to the threshold value for the activation."
   ]
  },
  {
   "cell_type": "code",
   "execution_count": 13,
   "metadata": {
    "collapsed": false
   },
   "outputs": [],
   "source": [
    "class NeuralNetwork:\n",
    "    def __init__(self, layers, activation='tanh'):\n",
    "        \"\"\"\n",
    "        :param layers: A list containing the number of units in each layer.\n",
    "        Should be at least two values\n",
    "        :param activation: The activation function to be used. Can be\n",
    "        \"logistic\" or \"tanh\"\n",
    "        \"\"\"\n",
    "        if activation == 'logistic':\n",
    "            self.activation = logistic\n",
    "            self.activation_deriv = logistic_derivative\n",
    "        elif activation == 'tanh':\n",
    "            self.activation = tanh\n",
    "            self.activation_deriv = tanh_deriv\n",
    "\n",
    "        self.weights = []\n",
    "        for i in range(1, len(layers) - 1):\n",
    "            self.weights.append((2*np.random.random((layers[i - 1] + 1, layers[i]+ 1))-1)*0.25)\n",
    "        self.weights.append((2*np.random.random((layers[i] + 1, layers[i +1]))-1)*0.25)\n",
    "\n",
    "    ##Training##\n",
    "    '''\n",
    "    Given a set of input vectors X and output values y, adjust the weights appropriately. The algorithm we will use \n",
    "    is called **stochastic gradient descent**, which chooses randomly a sample from the training data and does the \n",
    "    backpropagation for that sample, and this is repeated for a number of times (called epochs). We also have to set \n",
    "    the learning rate of the algorithm, which determines how big a change occurs in the weights each time \n",
    "    (proportionally to the errors).\n",
    "    '''\n",
    "\n",
    "    def fit(self, X, y, learning_rate=0.2, epochs=10000):\n",
    "        X = np.atleast_2d(X)\n",
    "        temp = np.ones([X.shape[0], X.shape[1]+1])\n",
    "        temp[:, 0:-1] = X  # adding the bias unit to the input layer\n",
    "        X = temp\n",
    "        y = np.array(y)\n",
    "\n",
    "        for k in range(epochs):\n",
    "            i = np.random.randint(X.shape[0])\n",
    "            a = [X[i]]\n",
    "\n",
    "            for l in range(len(self.weights)):\n",
    "                a.append(self.activation(np.dot(a[l], self.weights[l])))\n",
    "            error = y[i] - a[-1]\n",
    "            deltas = [error * self.activation_deriv(a[-1])]\n",
    "\n",
    "            for l in range(len(a) - 2, 0, -1): # we need to begin at the second to last layer\n",
    "                deltas.append(deltas[-1].dot(self.weights[l].T)*self.activation_deriv(a[l]))\n",
    "            deltas.reverse()\n",
    "            for i in range(len(self.weights)):\n",
    "                layer = np.atleast_2d(a[i])\n",
    "                delta = np.atleast_2d(deltas[i])\n",
    "                self.weights[i] += learning_rate * layer.T.dot(delta)\n",
    "\n",
    "\n",
    "    def predict(self, x):\n",
    "        x = np.array(x)\n",
    "        temp = np.ones(x.shape[0]+1)\n",
    "        temp[0:-1] = x\n",
    "        a = temp\n",
    "        for l in range(0, len(self.weights)):\n",
    "            a = self.activation(np.dot(a, self.weights[l]))\n",
    "        return a\n"
   ]
  },
  {
   "cell_type": "markdown",
   "metadata": {},
   "source": [
    "Testing-XOR\n",
    "------"
   ]
  },
  {
   "cell_type": "code",
   "execution_count": 17,
   "metadata": {
    "collapsed": false
   },
   "outputs": [
    {
     "name": "stdout",
     "output_type": "stream",
     "text": [
      "(array([0, 0]), array([ 0.06458202]))\n",
      "(array([0, 1]), array([ 0.82248188]))\n",
      "(array([1, 0]), array([ 0.81177321]))\n",
      "(array([1, 1]), array([-0.31999041]))\n"
     ]
    }
   ],
   "source": [
    "nn=NeuralNetwork([2,2,1],'tanh')\n",
    "X=np.array([[0,0],[0,1],[1,0],[1,1]])\n",
    "y=np.array([0,1,1,0])\n",
    "nn.fit(X,y)\n",
    "for i in X:\n",
    "    print (i,nn.predict(i))"
   ]
  },
  {
   "cell_type": "markdown",
   "metadata": {},
   "source": [
    "Testing- digits dataset\n",
    "-------------------\n",
    "This has 1797 8x8 pixel images of digits with their labels. Lets see what accuracies can we get on them. We will have to transform the labels from values (such as 1 or 5), to vectors of 10 elements, which are all 0 except for the position corresponding to the label, which will be one."
   ]
  },
  {
   "cell_type": "code",
   "execution_count": 55,
   "metadata": {
    "collapsed": false
   },
   "outputs": [
    {
     "name": "stdout",
     "output_type": "stream",
     "text": [
      "(1797, 64)\n"
     ]
    },
    {
     "data": {
      "image/png": "[encoded data removed]",
      "text/plain": [
       "<matplotlib.figure.Figure at 0x115831a50>"
      ]
     },
     "metadata": {},
     "output_type": "display_data"
    }
   ],
   "source": [
    "import numpy as np\n",
    "from sklearn.cross_validation import train_test_split \n",
    "from sklearn.datasets import load_digits\n",
    "from sklearn.metrics import confusion_matrix, classification_report\n",
    "from sklearn.preprocessing import LabelBinarizer\n",
    "import matplotlib.pyplot as plt\n",
    "%matplotlib inline\n",
    "\n",
    "digits = load_digits()\n",
    "print(digits.data.shape)\n",
    "plt.pcolor(digits.images[0]) \n",
    "plt.show()"
   ]
  },
  {
   "cell_type": "code",
   "execution_count": 51,
   "metadata": {
    "collapsed": false
   },
   "outputs": [
    {
     "data": {
      "text/plain": [
       "array([0, 1, 2, ..., 8, 9, 8])"
      ]
     },
     "execution_count": 51,
     "metadata": {},
     "output_type": "execute_result"
    }
   ],
   "source": [
    "X = digits.data\n",
    "y = digits.target\n",
    "X -= X.min() # normalize the values to bring them into the range 0-1\n",
    "X /= X.max()"
   ]
  },
  {
   "cell_type": "code",
   "execution_count": 25,
   "metadata": {
    "collapsed": false
   },
   "outputs": [
    {
     "name": "stdout",
     "output_type": "stream",
     "text": [
      "[[51  0  0  0  0  1  0  0  0  0]\n",
      " [ 0 44  0  0  0  2  0  0  0  1]\n",
      " [ 0  1 51  1  0  0  0  0  0  0]\n",
      " [ 0  1  0 42  0  1  0  1  0  0]\n",
      " [ 0  0  0  0 34  0  0  0  0  1]\n",
      " [ 0  0  0  0  0 41  0  0  0  3]\n",
      " [ 0  0  0  0  0  0 43  0  0  0]\n",
      " [ 0  0  0  0  0  0  0 41  0  0]\n",
      " [ 0  1  0  0  0  0  0  0 34  4]\n",
      " [ 0  0  0  0  0  1  0  0  0 50]]\n",
      "             precision    recall  f1-score   support\n",
      "\n",
      "          0       1.00      0.98      0.99        52\n",
      "          1       0.94      0.94      0.94        47\n",
      "          2       1.00      0.96      0.98        53\n",
      "          3       0.98      0.93      0.95        45\n",
      "          4       1.00      0.97      0.99        35\n",
      "          5       0.89      0.93      0.91        44\n",
      "          6       1.00      1.00      1.00        43\n",
      "          7       0.98      1.00      0.99        41\n",
      "          8       1.00      0.87      0.93        39\n",
      "          9       0.85      0.98      0.91        51\n",
      "\n",
      "avg / total       0.96      0.96      0.96       450\n",
      "\n"
     ]
    }
   ],
   "source": [
    "nn = NeuralNetwork([64,100,10],'logistic')\n",
    "X_train, X_test, y_train, y_test = train_test_split(X, y)\n",
    "labels_train = LabelBinarizer().fit_transform(y_train)\n",
    "labels_test = LabelBinarizer().fit_transform(y_test)\n",
    "\n",
    "nn.fit(X_train,labels_train,epochs=30000)\n",
    "predictions = []\n",
    "for i in range(X_test.shape[0]):\n",
    "    o = nn.predict(X_test[i] )\n",
    "    predictions.append(np.argmax(o))\n",
    "print confusion_matrix(y_test,predictions)\n",
    "print classification_report(y_test,predictions)"
   ]
  },
  {
   "cell_type": "code",
   "execution_count": null,
   "metadata": {
    "collapsed": false
   },
   "outputs": [],
   "source": []
  },
  {
   "cell_type": "code",
   "execution_count": null,
   "metadata": {
    "collapsed": true
   },
   "outputs": [],
   "source": []
  }
 ],
 "metadata": {
  "kernelspec": {
   "display_name": "Python 2",
   "language": "python",
   "name": "python2"
  },
  "language_info": {
   "codemirror_mode": {
    "name": "ipython",
    "version": 2
   },
   "file_extension": ".py",
   "mimetype": "text/x-python",
   "name": "python",
   "nbconvert_exporter": "python",
   "pygments_lexer": "ipython2",
   "version": "2.7.11"
  }
 },
 "nbformat": 4,
 "nbformat_minor": 0
}
