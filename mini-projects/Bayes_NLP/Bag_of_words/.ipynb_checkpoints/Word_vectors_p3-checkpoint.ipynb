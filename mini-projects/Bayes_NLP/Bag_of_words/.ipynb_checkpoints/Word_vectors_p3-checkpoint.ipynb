{
 "cells": [
  {
   "cell_type": "markdown",
   "metadata": {},
   "source": [
    "More Word Vectors\n",
    "==========\n",
    "Ref: https://www.kaggle.com/c/word2vec-nlp-tutorial/details/part-3-more-fun-with-word-vectors\n",
    "\n",
    "Numeric Representations of Words\n",
    "--------------\n",
    "The Word2Vec model consists of a feature vector for each word in the vocabulary, stored in a numpy array called syn0:"
   ]
  },
  {
   "cell_type": "code",
   "execution_count": 1,
   "metadata": {
    "collapsed": true
   },
   "outputs": [],
   "source": [
    "# Load the model that we created in Part 2\n",
    "from gensim.models import Word2Vec\n",
    "model=Word2Vec.load(\"300features_40minwords_10context\")"
   ]
  },
  {
   "cell_type": "code",
   "execution_count": 2,
   "metadata": {
    "collapsed": false
   },
   "outputs": [
    {
     "data": {
      "text/plain": [
       "numpy.ndarray"
      ]
     },
     "execution_count": 2,
     "metadata": {},
     "output_type": "execute_result"
    }
   ],
   "source": [
    "type(model.syn0)"
   ]
  },
  {
   "cell_type": "code",
   "execution_count": 3,
   "metadata": {
    "collapsed": false
   },
   "outputs": [
    {
     "data": {
      "text/plain": [
       "(16731, 300)"
      ]
     },
     "execution_count": 3,
     "metadata": {},
     "output_type": "execute_result"
    }
   ],
   "source": [
    "model.syn0.shape"
   ]
  },
  {
   "cell_type": "markdown",
   "metadata": {},
   "source": [
    "Setting the minimum word count to 40 gave us a total vocaabulary of 16731 words with 300 features apiece. "
   ]
  },
  {
   "cell_type": "code",
   "execution_count": 4,
   "metadata": {
    "collapsed": false
   },
   "outputs": [
    {
     "data": {
      "text/plain": [
       "array([ 0.02134321, -0.00057929, -0.08828005,  0.02148496,  0.00455311,\n",
       "        0.04645799,  0.13440727, -0.01924068,  0.0250187 ,  0.00716184,\n",
       "       -0.07705119, -0.07269628, -0.06724421,  0.10513379, -0.01986868,\n",
       "        0.08252697,  0.01312089, -0.11145967,  0.05409377, -0.06306233,\n",
       "       -0.16053131,  0.04976825,  0.11018376,  0.12966742, -0.0786479 ,\n",
       "        0.03784633, -0.02172615, -0.09120998, -0.01007708,  0.00381264,\n",
       "       -0.0415653 , -0.0004102 , -0.0101001 ,  0.03045666, -0.08472608,\n",
       "       -0.01462056,  0.03637496,  0.0024175 ,  0.10872315, -0.01177609,\n",
       "       -0.05104599,  0.01574708, -0.05566194, -0.05069996,  0.00799315,\n",
       "       -0.02671401, -0.00299433, -0.03807583,  0.0181754 ,  0.14843573,\n",
       "        0.00807173,  0.00933594,  0.07225905,  0.04447188, -0.05496529,\n",
       "        0.01974759, -0.02049986,  0.01183401, -0.09530117,  0.01099196,\n",
       "       -0.07633688,  0.02359863,  0.04380448,  0.00455082, -0.10783515,\n",
       "        0.07563701, -0.02231596,  0.05592882,  0.06040867,  0.00534434,\n",
       "       -0.06800758,  0.00345112, -0.04012507,  0.01986173,  0.01165316,\n",
       "       -0.07376911, -0.05658937,  0.06126006,  0.00456303,  0.03518597,\n",
       "       -0.05897179,  0.03460297, -0.03819214, -0.18606764,  0.08792822,\n",
       "        0.00023977, -0.04569699, -0.08337206, -0.00597563,  0.01224371,\n",
       "       -0.0657724 , -0.02212581, -0.00637211,  0.00877357,  0.01309877,\n",
       "       -0.03708826,  0.06338245, -0.02174831,  0.00559088, -0.00802609,\n",
       "        0.04245493, -0.04483779,  0.00180296, -0.05529337,  0.01513349,\n",
       "       -0.0965897 , -0.00150693,  0.06344507, -0.0851911 , -0.15157077,\n",
       "        0.0777616 ,  0.04670933,  0.04177637,  0.04201682,  0.03208194,\n",
       "       -0.0245131 ,  0.02748666,  0.01005514,  0.05538172, -0.00402244,\n",
       "       -0.0374704 ,  0.0246857 ,  0.00717094,  0.00477582,  0.00132485,\n",
       "        0.00470202, -0.0811109 , -0.00623955,  0.03804597, -0.07542456,\n",
       "       -0.0159589 , -0.00714555, -0.00398493,  0.0210939 , -0.02229991,\n",
       "        0.04664572, -0.04613489,  0.07526387, -0.01991048,  0.06551407,\n",
       "       -0.02201129,  0.01398306,  0.03998138, -0.01775287,  0.0673392 ,\n",
       "       -0.01591349, -0.02540614,  0.10636976, -0.04947807, -0.03363281,\n",
       "        0.02612821,  0.00191917,  0.02558063,  0.02002445, -0.0738957 ,\n",
       "        0.11253347, -0.0685111 ,  0.02673021,  0.0407885 ,  0.0015633 ,\n",
       "       -0.04756623,  0.06322549, -0.02134222, -0.07609972, -0.07699449,\n",
       "       -0.02212499, -0.04171223,  0.01074687,  0.11339447,  0.01360639,\n",
       "       -0.03990242, -0.07885057,  0.0187923 , -0.03909388,  0.05150555,\n",
       "        0.03198038, -0.0407456 , -0.04205213,  0.09396021, -0.10267874,\n",
       "        0.03572924, -0.03502798, -0.01535413, -0.00191785, -0.00610365,\n",
       "       -0.04067403,  0.05155127, -0.0705178 , -0.00031283, -0.00173265,\n",
       "        0.05476167, -0.06172922,  0.06760592,  0.05964864,  0.03719495,\n",
       "       -0.00362138, -0.02058874,  0.00424543, -0.01830453, -0.05555237,\n",
       "        0.04434229, -0.00783302, -0.04090084,  0.02831374, -0.01316199,\n",
       "       -0.00913212,  0.01779846, -0.02256576,  0.04103056,  0.08266669,\n",
       "       -0.06347819,  0.04318511,  0.07218826,  0.11009499,  0.0278479 ,\n",
       "        0.08247388,  0.01620618, -0.00300645,  0.10797994,  0.10871042,\n",
       "       -0.01547699, -0.06147423,  0.01158539, -0.02743871,  0.03254444,\n",
       "       -0.06148881,  0.0650488 , -0.0860031 ,  0.00319038, -0.02911449,\n",
       "       -0.0422983 ,  0.01713187,  0.10046499, -0.08219735, -0.0176726 ,\n",
       "        0.0259592 ,  0.00775145, -0.09002386,  0.13210778, -0.04110304,\n",
       "        0.04906118,  0.12106159,  0.02767525, -0.00955287,  0.00994756,\n",
       "        0.02469302,  0.06993405, -0.03472947,  0.08553389,  0.05782884,\n",
       "        0.00121397, -0.09496766, -0.01672292,  0.05181004,  0.00489363,\n",
       "        0.06779016, -0.03655169, -0.02075021,  0.04088618, -0.00254524,\n",
       "       -0.03475989, -0.03259257, -0.03628366,  0.14154617,  0.06323931,\n",
       "        0.0782004 ,  0.15750664, -0.00262786,  0.0188525 ,  0.02289113,\n",
       "       -0.04229886,  0.0887358 ,  0.06403749, -0.02745223, -0.00806049,\n",
       "       -0.0506832 ,  0.00343443, -0.02960292,  0.03843275,  0.03501881,\n",
       "       -0.13701913,  0.09388011,  0.18727854,  0.00185457, -0.02443307,\n",
       "        0.0463001 ,  0.00263256, -0.11356761, -0.07317048,  0.01715883,\n",
       "        0.07862414,  0.02596972, -0.05149871, -0.02850629, -0.01498989,\n",
       "        0.07875523, -0.07039824,  0.02505322,  0.06659073,  0.0845501 ], dtype=float32)"
      ]
     },
     "execution_count": 4,
     "metadata": {},
     "output_type": "execute_result"
    }
   ],
   "source": [
    "# Access individual word vectors\n",
    "model[\"flower\"]"
   ]
  },
  {
   "cell_type": "markdown",
   "metadata": {},
   "source": [
    "From Words to Paragraphs, Attempt 1: Vector Averaging\n",
    "------------------\n",
    "Fisrt, we need to take individual word vectors and transform them into a feature set that is the same length for every review. Since each word is a vector in 300-dimensional space, we can use vector operations to combine the words in each review. One method is to simply average the word vectors in a given review (for this purpose, we removed stop words, which would just add noise). "
   ]
  },
  {
   "cell_type": "code",
   "execution_count": 5,
   "metadata": {
    "collapsed": true
   },
   "outputs": [],
   "source": [
    "import numpy as np\n",
    "\n",
    "def makeFeatureVec(words, model, num_features):\n",
    "    # Function to average all of the word vectors in a given paragraph\n",
    "    # Pre-initialize an empty numpy array (for speed)\n",
    "    featureVec= np.zeros((num_features),dtype=\"float32\")\n",
    "    nwords=0.\n",
    "    # Index2word is a list that contains the names of the words in the model's vocabulary.\n",
    "    # Convert it to a set, for speed\n",
    "    index2word_set=set(model.index2word)\n",
    "    # Loop over each word in the review and, if it is in the model's vocabulary,\n",
    "    # add its feature vector to the total\n",
    "    for word in words:\n",
    "        if word in index2word_set:\n",
    "            nwords+=1\n",
    "            featureVec=np.add(featureVec,model[word])\n",
    "    # Divide the result by the number of words to get the average\n",
    "    featureVec= np.divide(featureVec,nwords)\n",
    "    return featureVec\n",
    "\n",
    "def getAvgFeatureVecs(reviews,model,num_features):\n",
    "    # Given a set of reviews (each one is a list of words), calculate \n",
    "    # the average feature vector for each one and return a 2D numpy array\n",
    "    # Initialize a counter\n",
    "    counter=0.\n",
    "    # Preallocate a 2D numpy array, for speed\n",
    "    reviewFeatureVecs= np.zeros((len(reviews),num_features),dtype=\"float32\")\n",
    "    # Loop through the reviews\n",
    "    for review in reviews:\n",
    "        # Print a status message every 1000th review\n",
    "        if counter%1000.==0.:\n",
    "            print \"Review %d of %d\"%(counter,len(reviews))\n",
    "        # Call the function (defined above) that makes average feature vectors\n",
    "        reviewFeatureVecs[counter]= makeFeatureVec(review, model, num_features)\n",
    "        # Increment the counter\n",
    "        counter+=1.\n",
    "    return reviewFeatureVecs"
   ]
  },
  {
   "cell_type": "markdown",
   "metadata": {},
   "source": [
    "**Recall: Word_vectors_p2**"
   ]
  },
  {
   "cell_type": "code",
   "execution_count": 6,
   "metadata": {
    "collapsed": true
   },
   "outputs": [],
   "source": [
    "import pandas as pd\n",
    "\n",
    "# Read data from files\n",
    "train=pd.read_csv(\"labeledTrainData.tsv\", header=0, delimiter=\"\\t\",quoting=3)\n",
    "test=pd.read_csv(\"testData.tsv\", header=0, delimiter=\"\\t\",quoting=3)\n",
    "unlabeled_train=pd.read_csv(\"unlabeledTrainData.tsv\",header=0,delimiter=\"\\t\",quoting=3)\n",
    "\n",
    "# Import various modules for string cleaning \n",
    "from bs4 import BeautifulSoup\n",
    "import re\n",
    "from nltk.corpus import stopwords\n",
    "\n",
    "def review_to_wordlist(review,remove_stopwords=False):\n",
    "    # Function to convert a document to a sequence of words,\n",
    "    # optionally removing stop words. Returns a list of words.\n",
    "    # 1. Remove HTML\n",
    "    review_text=BeautifulSoup(review,\"html\").get_text()\n",
    "    # 2. Remove non-letters, keep numbers\n",
    "    review_text=re.sub(\"[^a-zA-Z0-9]\",\" \",review_text)\n",
    "    # 3. Convert words in lower case and split them\n",
    "    words=review_text.lower().split()\n",
    "    # 4. Optionally remove stop words (false by default)\n",
    "    if remove_stopwords:\n",
    "        stops=set(stopwords.words(\"english\"))\n",
    "        words=[w for w in words if not w in stops]\n",
    "    # 5. return a list of words\n",
    "    return(words)\n"
   ]
  },
  {
   "cell_type": "markdown",
   "metadata": {},
   "source": [
    "**Back to Word_vectors_p3**\n",
    "Now we can call these functions to create average vectors for each paragraph. "
   ]
  },
  {
   "cell_type": "code",
   "execution_count": 7,
   "metadata": {
    "collapsed": false
   },
   "outputs": [
    {
     "name": "stderr",
     "output_type": "stream",
     "text": [
      "/Users/anw4/anaconda/lib/python2.7/site-packages/bs4/__init__.py:166: UserWarning: No parser was explicitly specified, so I'm using the best available HTML parser for this system (\"lxml\"). This usually isn't a problem, but if you run this code on another system, or in a different virtual environment, it may use a different parser and behave differently.\n",
      "\n",
      "To get rid of this warning, change this:\n",
      "\n",
      " BeautifulSoup([your markup])\n",
      "\n",
      "to this:\n",
      "\n",
      " BeautifulSoup([your markup], \"lxml\")\n",
      "\n",
      "  markup_type=markup_type))\n"
     ]
    },
    {
     "name": "stdout",
     "output_type": "stream",
     "text": [
      "Review 0 of 25000\n"
     ]
    },
    {
     "name": "stderr",
     "output_type": "stream",
     "text": [
      "/Users/anw4/anaconda/lib/python2.7/site-packages/ipykernel/__main__.py:34: DeprecationWarning: using a non-integer number instead of an integer will result in an error in the future\n"
     ]
    },
    {
     "name": "stdout",
     "output_type": "stream",
     "text": [
      "Review 1000 of 25000\n",
      "Review 2000 of 25000\n",
      "Review 3000 of 25000\n",
      "Review 4000 of 25000\n",
      "Review 5000 of 25000\n",
      "Review 6000 of 25000\n",
      "Review 7000 of 25000\n",
      "Review 8000 of 25000\n",
      "Review 9000 of 25000\n",
      "Review 10000 of 25000\n",
      "Review 11000 of 25000\n",
      "Review 12000 of 25000\n",
      "Review 13000 of 25000\n",
      "Review 14000 of 25000\n",
      "Review 15000 of 25000\n",
      "Review 16000 of 25000\n",
      "Review 17000 of 25000\n",
      "Review 18000 of 25000\n",
      "Review 19000 of 25000\n",
      "Review 20000 of 25000\n",
      "Review 21000 of 25000\n",
      "Review 22000 of 25000\n",
      "Review 23000 of 25000\n",
      "Review 24000 of 25000\n",
      "Creating average feature vecs for test reviews\n",
      "Review 0 of 25000\n",
      "Review 1000 of 25000\n",
      "Review 2000 of 25000\n",
      "Review 3000 of 25000\n",
      "Review 4000 of 25000\n",
      "Review 5000 of 25000\n",
      "Review 6000 of 25000\n",
      "Review 7000 of 25000\n",
      "Review 8000 of 25000\n",
      "Review 9000 of 25000\n",
      "Review 10000 of 25000\n",
      "Review 11000 of 25000\n",
      "Review 12000 of 25000\n",
      "Review 13000 of 25000\n",
      "Review 14000 of 25000\n",
      "Review 15000 of 25000\n",
      "Review 16000 of 25000\n",
      "Review 17000 of 25000\n",
      "Review 18000 of 25000\n",
      "Review 19000 of 25000\n",
      "Review 20000 of 25000\n",
      "Review 21000 of 25000\n",
      "Review 22000 of 25000\n",
      "Review 23000 of 25000\n",
      "Review 24000 of 25000\n"
     ]
    }
   ],
   "source": [
    "# Calculate the average feature vectors for training and testing sets,\n",
    "# using the functions we defined above. Notice that we now use stop word removal.\n",
    "\n",
    "num_features=300\n",
    "\n",
    "clean_train_reviews=[]\n",
    "for review in train[\"review\"]:\n",
    "    clean_train_reviews.append(review_to_wordlist(review,remove_stopwords=True))\n",
    "    \n",
    "trainDataVecs = getAvgFeatureVecs(clean_train_reviews,model,num_features)\n",
    "\n",
    "print \"Creating average feature vecs for test reviews\"\n",
    "clean_test_reviews=[]\n",
    "for review in test[\"review\"]:\n",
    "    clean_test_reviews.append(review_to_wordlist(review,remove_stopwords=True))\n",
    "    \n",
    "testDataVecs = getAvgFeatureVecs(clean_test_reviews,model,num_features)"
   ]
  },
  {
   "cell_type": "markdown",
   "metadata": {},
   "source": [
    "Next, use the average paragraph vectors to train a random forest. Note that, as in part 1, we can only use the labeled training reviews to train the model."
   ]
  },
  {
   "cell_type": "code",
   "execution_count": 8,
   "metadata": {
    "collapsed": false
   },
   "outputs": [
    {
     "name": "stdout",
     "output_type": "stream",
     "text": [
      "Fitting a random forest to labeled training data...\n"
     ]
    }
   ],
   "source": [
    "# Fit a random forest to the trainig data, using 100 trees\n",
    "from sklearn.ensemble import RandomForestClassifier\n",
    "forest=RandomForestClassifier(n_estimators=100)\n",
    "\n",
    "print \"Fitting a random forest to labeled training data...\"\n",
    "forest=forest.fit(trainDataVecs,train[\"sentiment\"])\n",
    "\n",
    "# Test and extract results\n",
    "result= forest.predict(testDataVecs)\n",
    "\n",
    "# Write the test results\n",
    "output = pd.DataFrame(data={\"id\":test[\"id\"],\"sentiment\":result})\n",
    "output.to_csv(\"Word2Vec_AverageVectors.csv\",index=False,quoting=3)"
   ]
  },
  {
   "cell_type": "markdown",
   "metadata": {},
   "source": [
    "**Need to evaluate: we found that this produced results much better than chance, but underperformed Bag of Words by a few percentage points....**\n",
    "\n",
    "Since the element-wise average of the vectors didn't produce spectacular results, perhaps we could do it in a more intelligent way? A standard way of weighting word vectors is to apply \"tf-idf\" weights, which measure how important a given word is within a given set of documents. One way to extract **tf-idf** weights in Python is by using scikit-learn's **TfidfVectorizer**, which has an interface similar to the CountVectorizer that we used in Part 1. However, weighting our word vectors in this way has no substantial improvement in performance.\n",
    "\n",
    "From Words to Paragraphs, Attempt 2: Clustering\n",
    "------------------\n",
    "Word2Vec creates clusters of semantically related words, so another possible approach is to exploit the similarity of words within a cluster. Grouping vectors in this way is known as **vector quantization.** We can find the centers of the word clusters using K-Means (slow). "
   ]
  },
  {
   "cell_type": "code",
   "execution_count": 9,
   "metadata": {
    "collapsed": false
   },
   "outputs": [
    {
     "name": "stdout",
     "output_type": "stream",
     "text": [
      "Time taken for K Means clustering:  1542.80337405  seconds.\n"
     ]
    }
   ],
   "source": [
    "from sklearn.cluster import KMeans\n",
    "import time\n",
    "\n",
    "start=time.time() \n",
    "\n",
    "# Set \"k\" (num_clusters) to be 1/5th of the vocabulary size, or an average of 5 words per cluster\n",
    "word_vectors = model.syn0\n",
    "num_clusters = word_vectors.shape[0]/5\n",
    "\n",
    "# Initialize a k-means object and use it to extract centroids\n",
    "kmeans_clustering= KMeans(n_clusters=num_clusters)\n",
    "idx= kmeans_clustering.fit_predict(word_vectors)\n",
    "\n",
    "# Get the end time and print how long the process took\n",
    "end= time.time()\n",
    "elapsed = end-start\n",
    "print \"Time taken for K Means clustering: \",elapsed,\" seconds.\""
   ]
  },
  {
   "cell_type": "code",
   "execution_count": 11,
   "metadata": {
    "collapsed": false
   },
   "outputs": [],
   "source": [
    "# Create a Word/Index dictionary, mapping each vocabulary word to a cluster number\n",
    "word_centroid_map= dict(zip(model.index2word,idx))"
   ]
  },
  {
   "cell_type": "code",
   "execution_count": 20,
   "metadata": {
    "collapsed": false
   },
   "outputs": [
    {
     "name": "stdout",
     "output_type": "stream",
     "text": [
      "\n",
      "Cluster 0\n",
      "[u'supermarket', u'cafe', u'shops', u'diner', u'caf', u'pub', u'gym', u'bar', u'shop', u'restaurant', u'bookstore', u'factory']\n",
      "\n",
      "Cluster 1\n",
      "[u'leary', u'magnum', u'conway']\n",
      "\n",
      "Cluster 2\n",
      "[u'luzhin', u'patriarch', u'jeb', u'unjustly', u'troublesome', u'proposition', u'eternally', u'gypo', u'embittered', u'impatient', u'withdrawn']\n",
      "\n",
      "Cluster 3\n",
      "[u'revue']\n",
      "\n",
      "Cluster 4\n",
      "[u'leaps', u'looming']\n",
      "\n",
      "Cluster 5\n",
      "[u'troubles', u'scars', u'fears', u'consequences', u'senses', u'deepest', u'sanity']\n",
      "\n",
      "Cluster 6\n",
      "[u'void', u'innovation']\n",
      "\n",
      "Cluster 7\n",
      "[u'seduced', u'befriended', u'traumatized', u'teased', u'personified', u'rejected', u'mistreated', u'thwarted', u'pursued', u'recruited', u'victimized', u'humiliated', u'bullied', u'harassed', u'framed', u'terrorized', u'ridiculed', u'tormented', u'betrayed']\n",
      "\n",
      "Cluster 8\n",
      "[u'1958', u'1957', u'1956', u'1959', u'1961', u'1912', u'1965', u'1964', u'1962', u'1944', u'1945', u'1916']\n",
      "\n",
      "Cluster 9\n",
      "[u'slash', u'stalk', u'toolbox']\n"
     ]
    }
   ],
   "source": [
    "# For the first 10 clusters\n",
    "for cluster in xrange(0,10):\n",
    "    # Print the cluster number\n",
    "    print \"\\nCluster %d\" %cluster\n",
    "    # Find all of the words for that cluster number, and print them out\n",
    "    words=[]\n",
    "    for i in xrange(0,len(word_centroid_map.values())):\n",
    "        if (word_centroid_map.values()[i]==cluster):\n",
    "            words.append(word_centroid_map.keys()[i])\n",
    "    print words"
   ]
  },
  {
   "cell_type": "code",
   "execution_count": 21,
   "metadata": {
    "collapsed": false
   },
   "outputs": [],
   "source": [
    "def create_bag_of_centroids(wordlist,word_centroid_map):\n",
    "    # The number of clusters is equal to the highest cluster index in the word/centroid map\n",
    "    num_centroids=max(word_centroid_map.values())+1\n",
    "    # Pre-allocate the bag of centroids vector (for speed)\n",
    "    bag_of_centroids=np.zeros(num_centroids,dtype=\"float32\")\n",
    "    # Loop over the words in the review. If the word is in the vocabulary,\n",
    "    # find which cluster it belongs to, and increment that cluster count by one\n",
    "    for word in wordlist:\n",
    "        if word in word_centroid_map:\n",
    "            index=word_centroid_map[word]\n",
    "            bag_of_centroids[index]+=1\n",
    "    return bag_of_centroids\n"
   ]
  },
  {
   "cell_type": "markdown",
   "metadata": {},
   "source": [
    "The function above will give us a numpy array for each review, each with a number of features equal to the number of clusters. Finally, we create bags of centroids for the training and testing sets, then train a random forest."
   ]
  },
  {
   "cell_type": "code",
   "execution_count": 22,
   "metadata": {
    "collapsed": true
   },
   "outputs": [],
   "source": [
    "# Pre-allocate an array for the training set bags of centroids (for speed)\n",
    "train_centroids=np.zeros((train[\"review\"].size,num_clusters),dtype=\"float32\")\n",
    "\n",
    "# Transform the training set reviews into bags of centroids\n",
    "counter =0 \n",
    "for review in clean_train_reviews:\n",
    "    train_centroids[counter]=create_bag_of_centroids(review,word_centroid_map)\n",
    "    counter+=1\n",
    "    \n",
    "# Repeat for test reviews\n",
    "test_centroids=np.zeros((test[\"review\"].size,num_clusters),dtype=\"float32\")\n",
    "counter=0\n",
    "for review in clean_test_reviews:\n",
    "    test_centroids[counter]=create_bag_of_centroids(review,word_centroid_map)\n",
    "    counter+=1"
   ]
  },
  {
   "cell_type": "code",
   "execution_count": 25,
   "metadata": {
    "collapsed": false
   },
   "outputs": [
    {
     "name": "stdout",
     "output_type": "stream",
     "text": [
      "Fitting a random forest to labeled training data...\n"
     ]
    }
   ],
   "source": [
    "# Fit a random forest and extract predictions\n",
    "forest=RandomForestClassifier(n_estimators=100)\n",
    "\n",
    "# Fitting the forest \n",
    "print \"Fitting a random forest to labeled training data...\"\n",
    "forest=forest.fit(train_centroids,train[\"sentiment\"])\n",
    "result=forest.predict(test_centroids)\n",
    "\n",
    "# Write the test results\n",
    "ouptput=pd.DataFrame(data={\"id\":test[\"id\"],\"sentiment\":result})\n",
    "output.to_csv(\"Bag_of_Centroids.csv\",index=False,quoting=3)"
   ]
  },
  {
   "cell_type": "markdown",
   "metadata": {},
   "source": [
    "**Need to evaluate: The code above gives about the same (or slightly worse) results compared to the Bag of Words in Part 1.**"
   ]
  },
  {
   "cell_type": "code",
   "execution_count": null,
   "metadata": {
    "collapsed": true
   },
   "outputs": [],
   "source": []
  }
 ],
 "metadata": {
  "kernelspec": {
   "display_name": "Python 2",
   "language": "python",
   "name": "python2"
  },
  "language_info": {
   "codemirror_mode": {
    "name": "ipython",
    "version": 2
   },
   "file_extension": ".py",
   "mimetype": "text/x-python",
   "name": "python",
   "nbconvert_exporter": "python",
   "pygments_lexer": "ipython2",
   "version": "2.7.11"
  }
 },
 "nbformat": 4,
 "nbformat_minor": 0
}
